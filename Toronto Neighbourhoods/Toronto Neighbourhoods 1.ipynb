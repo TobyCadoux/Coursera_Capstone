{
 "cells": [
  {
   "cell_type": "markdown",
   "metadata": {},
   "source": [
    "# Neighbourhoods in Toronto 1"
   ]
  },
  {
   "cell_type": "markdown",
   "metadata": {},
   "source": [
    "## Importing postcode data from Wikipedia"
   ]
  },
  {
   "cell_type": "markdown",
   "metadata": {},
   "source": [
    "### Task outline\n",
    "\n",
    "Use your Notebook to build the code to scrape the following Wikipedia page, https://en.wikipedia.org/wiki/List_of_postal_codes_of_Canada:_M_, in order to obtain the data that is in the table of postal codes and to transform the data into a pandas dataframe like the one shown below:\n",
    "\n",
    "<img src = \"https://d3c33hcgiwev3.cloudfront.net/imageAssetProxy.v1/7JXaz3NNEeiMwApe4i-fLg_40e690ae0e927abda2d4bde7d94ed133_Screen-Shot-2018-06-18-at-7.17.57-PM.png?expiry=1584835200000&hmac=84rAo3qtMUmsLzK61Xzy7ADTKueCCLuqudiQQ2-2Q-g\" width = 400>\n",
    "\n",
    "To create the above dataframe:\n",
    "\n",
    "* The dataframe will consist of three columns: PostalCode, Borough, and Neighborhood\n",
    "* Only process the cells that have an assigned borough. Ignore cells with a borough that is Not assigned.\n",
    "* More than one neighborhood can exist in one postal code area. For example, in the table on the Wikipedia page, you will notice that M5A is listed twice and has two neighborhoods: Harbourfront and Regent Park. These two rows will be combined into one row with the neighborhoods separated with a comma as shown in row 11 in the above table.\n",
    "* If a cell has a borough but a Not assigned neighborhood, then the neighborhood will be the same as the borough.\n",
    "* Clean your Notebook and add Markdown cells to explain your work and any assumptions you are making.\n",
    "* In the last cell of your notebook, use the .shape method to print the number of rows of your dataframe.\n",
    "\n",
    "#### Update\n",
    "For goodness sake!  I spent *hours* figuring out exactly how to extract the tags from the table on the current Wikipedia page.  Then I see that I can use a previous version of the page if I choose, someone suggested https://en.wikipedia.org/w/index.php?title=List_of_postal_codes_of_Canada:_M&oldid=945633050._ which makes the whole thing trivial.\n",
    "*Unimpressed*."
   ]
  },
  {
   "cell_type": "markdown",
   "metadata": {},
   "source": [
    "### Coding"
   ]
  },
  {
   "cell_type": "code",
   "execution_count": 1,
   "metadata": {},
   "outputs": [],
   "source": [
    "#url = 'https://en.wikipedia.org/wiki/List_of_postal_codes_of_Canada:_M'\n",
    "url = 'https://en.wikipedia.org/w/index.php?title=List_of_postal_codes_of_Canada:_M&oldid=945633050.'"
   ]
  },
  {
   "cell_type": "markdown",
   "metadata": {},
   "source": [
    "I will be using the lxml parser.  It's probably installed on your system but if not uncomment the next cell:"
   ]
  },
  {
   "cell_type": "code",
   "execution_count": 2,
   "metadata": {},
   "outputs": [],
   "source": [
    "#!pip3 install lxml"
   ]
  },
  {
   "cell_type": "code",
   "execution_count": 3,
   "metadata": {},
   "outputs": [
    {
     "name": "stdout",
     "output_type": "stream",
     "text": [
      "Loading url... done.\n",
      "Parsing markup...done.\n"
     ]
    }
   ],
   "source": [
    "import requests\n",
    "import pandas as pd\n",
    "from bs4 import BeautifulSoup\n",
    "print('Loading url... ', end='')\n",
    "html = requests.get(url).text\n",
    "print('done.\\nParsing markup...', end='')\n",
    "parsed = BeautifulSoup(html, 'lxml')\n",
    "print('done.')"
   ]
  },
  {
   "cell_type": "code",
   "execution_count": 4,
   "metadata": {},
   "outputs": [
    {
     "name": "stdout",
     "output_type": "stream",
     "text": [
      "Extracting information... done.\n"
     ]
    }
   ],
   "source": [
    "print('Extracting information... ', end='')\n",
    "\n",
    "# Find the table (there's only one so 'find' is good enough)\n",
    "table = parsed.find('table',{'class':'wikitable sortable'})\n",
    "\n",
    "# Make a collection of separate rows\n",
    "rows = table.find_all('tr')\n",
    "\n",
    "# Lists to hold all the data we want\n",
    "pcodes = []\n",
    "boroughs = []\n",
    "neighbourhoods = []\n",
    "\n",
    "for row in rows[1:]:\n",
    "    # Each row has three cells\n",
    "    postcode, borough, neighbourhood = row.find_all('td')\n",
    "    \n",
    "    # Get rid of the bumf in each tag\n",
    "    postcode = postcode.string\n",
    "    borough = borough.string\n",
    "    # Some neighbourhoods come out with newlines attached\n",
    "    # Sometimes they are singletons but [0] still works as\n",
    "    # these are not *actually* strs\n",
    "    neighbourhood = str(list(neighbourhood.strings)[0]).rstrip()\n",
    "    \n",
    "    #Skip the row if there is no borough\n",
    "    if (borough != 'Not assigned'):\n",
    "        #Assign neighbourhood the borough name if none is assigned\n",
    "        if (neighbourhood == 'Not assigned'):\n",
    "            neighbourhood = borough\n",
    "        pcodes.append(postcode)\n",
    "        boroughs.append(borough)\n",
    "        neighbourhoods.append(neighbourhood)\n",
    "print('done.')"
   ]
  },
  {
   "cell_type": "markdown",
   "metadata": {},
   "source": [
    "Now we have the data in three lists it is time to scrape over each postcode extracting the borough and a list of all the neighbourhoods my structure is two dicts each of whose keys are ```postcode``` and the values are ```borough``` and ```[neighbourhoods]``` respectively."
   ]
  },
  {
   "cell_type": "code",
   "execution_count": 5,
   "metadata": {},
   "outputs": [],
   "source": [
    "# This cell is not idempotent as I decided to reuse variable names.\n",
    "# Don't like it?  Sue me.\n",
    "codes = pd.DataFrame({'borough':boroughs, 'neighbourhood':neighbourhoods},\n",
    "                     index = pcodes)\n",
    "postcodes = list(dict.fromkeys(pcodes).keys())\n",
    "neighbourhoods={} #I'll have one df where these are single strings\n",
    "hoodlists={}  #And one where they are lists\n",
    "boroughs = {}\n",
    "postalcodes = {}\n",
    "for code in postcodes:\n",
    "    postalcodes[code] = code\n",
    "    # ._to_list() fails on a singleton neighbourhood so if it fails, catch\n",
    "    # the exception and handle it as single neighbourhood.  It's a little\n",
    "    # bit cleaner than a further if statement.\n",
    "    try: #Multiple boroughs need Series -> list and one borough name\n",
    "        hoodlists[code] = codes['neighbourhood'][code].to_list()\n",
    "        neighbourhoods[code] = ', '.join(hoodlists[code])\n",
    "        #The borough names will all be the same, so just choose the first\n",
    "        boroughs[code] = codes['borough'][code].to_list()[0]\n",
    "    except: #Single boroughs need item->[item] and the borough name\n",
    "        hoodlists[code] = [codes['neighbourhood'][code]]\n",
    "        neighbourhoods[code] = hoodlists[code][0]\n",
    "        #Unlike above, here there will only be a single borough name\n",
    "        boroughs[code] = codes['borough'][code]\n",
    "\n",
    "#This is my final answer to Q1\n",
    "final = pd.DataFrame({'PostalCode': postalcodes,\n",
    "                      'Borough':boroughs,\n",
    "                      'Neighbourhood':neighbourhoods})\n",
    "#I may not need a list of neighbourhoods but it took no additional effort\n",
    "final_lists = pd.DataFrame({'PostalCode': postalcodes, \n",
    "                          'Borough':boroughs,\n",
    "                          'Neighbourhood':hoodlists})"
   ]
  },
  {
   "cell_type": "code",
   "execution_count": 6,
   "metadata": {},
   "outputs": [],
   "source": [
    "# If your screen is not wide enough, just reduce this\n",
    "pd.set_option('max_colwidth', 150)"
   ]
  },
  {
   "cell_type": "code",
   "execution_count": 7,
   "metadata": {},
   "outputs": [
    {
     "data": {
      "text/html": [
       "<div>\n",
       "<style scoped>\n",
       "    .dataframe tbody tr th:only-of-type {\n",
       "        vertical-align: middle;\n",
       "    }\n",
       "\n",
       "    .dataframe tbody tr th {\n",
       "        vertical-align: top;\n",
       "    }\n",
       "\n",
       "    .dataframe thead th {\n",
       "        text-align: right;\n",
       "    }\n",
       "</style>\n",
       "<table border=\"1\" class=\"dataframe\">\n",
       "  <thead>\n",
       "    <tr style=\"text-align: right;\">\n",
       "      <th></th>\n",
       "      <th>PostalCode</th>\n",
       "      <th>Borough</th>\n",
       "      <th>Neighbourhood</th>\n",
       "    </tr>\n",
       "  </thead>\n",
       "  <tbody>\n",
       "    <tr>\n",
       "      <th>0</th>\n",
       "      <td>M3A</td>\n",
       "      <td>North York</td>\n",
       "      <td>Parkwoods</td>\n",
       "    </tr>\n",
       "    <tr>\n",
       "      <th>1</th>\n",
       "      <td>M4A</td>\n",
       "      <td>North York</td>\n",
       "      <td>Victoria Village</td>\n",
       "    </tr>\n",
       "    <tr>\n",
       "      <th>2</th>\n",
       "      <td>M5A</td>\n",
       "      <td>Downtown Toronto</td>\n",
       "      <td>Harbourfront</td>\n",
       "    </tr>\n",
       "    <tr>\n",
       "      <th>3</th>\n",
       "      <td>M6A</td>\n",
       "      <td>North York</td>\n",
       "      <td>Lawrence Heights, Lawrence Manor</td>\n",
       "    </tr>\n",
       "    <tr>\n",
       "      <th>4</th>\n",
       "      <td>M7A</td>\n",
       "      <td>Downtown Toronto</td>\n",
       "      <td>Queen's Park</td>\n",
       "    </tr>\n",
       "    <tr>\n",
       "      <th>...</th>\n",
       "      <td>...</td>\n",
       "      <td>...</td>\n",
       "      <td>...</td>\n",
       "    </tr>\n",
       "    <tr>\n",
       "      <th>98</th>\n",
       "      <td>M8X</td>\n",
       "      <td>Etobicoke</td>\n",
       "      <td>The Kingsway, Montgomery Road, Old Mill North</td>\n",
       "    </tr>\n",
       "    <tr>\n",
       "      <th>99</th>\n",
       "      <td>M4Y</td>\n",
       "      <td>Downtown Toronto</td>\n",
       "      <td>Church and Wellesley</td>\n",
       "    </tr>\n",
       "    <tr>\n",
       "      <th>100</th>\n",
       "      <td>M7Y</td>\n",
       "      <td>East Toronto</td>\n",
       "      <td>Business Reply Mail Processing Centre 969 Eastern</td>\n",
       "    </tr>\n",
       "    <tr>\n",
       "      <th>101</th>\n",
       "      <td>M8Y</td>\n",
       "      <td>Etobicoke</td>\n",
       "      <td>Humber Bay, King's Mill Park, Kingsway Park South East, Mimico NE, Old Mill South, The Queensway East, Royal York South East, Sunnylea</td>\n",
       "    </tr>\n",
       "    <tr>\n",
       "      <th>102</th>\n",
       "      <td>M8Z</td>\n",
       "      <td>Etobicoke</td>\n",
       "      <td>Kingsway Park South West, Mimico NW, The Queensway West, Royal York South West, South of Bloor</td>\n",
       "    </tr>\n",
       "  </tbody>\n",
       "</table>\n",
       "<p>103 rows × 3 columns</p>\n",
       "</div>"
      ],
      "text/plain": [
       "    PostalCode           Borough  \\\n",
       "0          M3A        North York   \n",
       "1          M4A        North York   \n",
       "2          M5A  Downtown Toronto   \n",
       "3          M6A        North York   \n",
       "4          M7A  Downtown Toronto   \n",
       "..         ...               ...   \n",
       "98         M8X         Etobicoke   \n",
       "99         M4Y  Downtown Toronto   \n",
       "100        M7Y      East Toronto   \n",
       "101        M8Y         Etobicoke   \n",
       "102        M8Z         Etobicoke   \n",
       "\n",
       "                                                                                                                              Neighbourhood  \n",
       "0                                                                                                                                 Parkwoods  \n",
       "1                                                                                                                          Victoria Village  \n",
       "2                                                                                                                              Harbourfront  \n",
       "3                                                                                                          Lawrence Heights, Lawrence Manor  \n",
       "4                                                                                                                              Queen's Park  \n",
       "..                                                                                                                                      ...  \n",
       "98                                                                                            The Kingsway, Montgomery Road, Old Mill North  \n",
       "99                                                                                                                     Church and Wellesley  \n",
       "100                                                                                       Business Reply Mail Processing Centre 969 Eastern  \n",
       "101  Humber Bay, King's Mill Park, Kingsway Park South East, Mimico NE, Old Mill South, The Queensway East, Royal York South East, Sunnylea  \n",
       "102                                          Kingsway Park South West, Mimico NW, The Queensway West, Royal York South West, South of Bloor  \n",
       "\n",
       "[103 rows x 3 columns]"
      ]
     },
     "execution_count": 7,
     "metadata": {},
     "output_type": "execute_result"
    }
   ],
   "source": [
    "# Reset the index to match the question format\n",
    "display = final.reset_index(drop = True, inplace = False)\n",
    "display"
   ]
  },
  {
   "cell_type": "code",
   "execution_count": 8,
   "metadata": {},
   "outputs": [
    {
     "name": "stdout",
     "output_type": "stream",
     "text": [
      "The data frame has 103 rows.\n"
     ]
    }
   ],
   "source": [
    "print(f'The data frame has {final.shape[0]} rows.')"
   ]
  }
 ],
 "metadata": {
  "hide_input": false,
  "kernelspec": {
   "display_name": "Python 3",
   "language": "python",
   "name": "python3"
  },
  "language_info": {
   "codemirror_mode": {
    "name": "ipython",
    "version": 3
   },
   "file_extension": ".py",
   "mimetype": "text/x-python",
   "name": "python",
   "nbconvert_exporter": "python",
   "pygments_lexer": "ipython3",
   "version": "3.7.7"
  },
  "toc": {
   "base_numbering": 1,
   "nav_menu": {},
   "number_sections": true,
   "sideBar": true,
   "skip_h1_title": true,
   "title_cell": "Table of Contents",
   "title_sidebar": "Contents",
   "toc_cell": false,
   "toc_position": {},
   "toc_section_display": true,
   "toc_window_display": true
  },
  "varInspector": {
   "cols": {
    "lenName": 16,
    "lenType": 16,
    "lenVar": 40
   },
   "kernels_config": {
    "python": {
     "delete_cmd_postfix": "",
     "delete_cmd_prefix": "del ",
     "library": "var_list.py",
     "varRefreshCmd": "print(var_dic_list())"
    },
    "r": {
     "delete_cmd_postfix": ") ",
     "delete_cmd_prefix": "rm(",
     "library": "var_list.r",
     "varRefreshCmd": "cat(var_dic_list()) "
    }
   },
   "types_to_exclude": [
    "module",
    "function",
    "builtin_function_or_method",
    "instance",
    "_Feature"
   ],
   "window_display": false
  }
 },
 "nbformat": 4,
 "nbformat_minor": 4
}
